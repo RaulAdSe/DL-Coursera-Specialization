{
 "cells": [
  {
   "cell_type": "markdown",
   "metadata": {},
   "source": [
    "# Convolutional Neural Networks: Application\n",
    "\n",
    "Welcome to Course 4's second assignment! In this notebook, you will:\n",
    "\n",
    "- Create a mood classifer using the TF Keras Sequential API\n",
    "- Build a ConvNet to identify sign language digits using the TF Keras Functional API\n",
    "\n",
    "**After this assignment you will be able to:**\n",
    "\n",
    "- Build and train a ConvNet in TensorFlow for a __binary__ classification problem\n",
    "- Build and train a ConvNet in TensorFlow for a __multiclass__ classification problem\n",
    "- Explain different use cases for the Sequential and Functional APIs\n",
    "\n",
    "To complete this assignment, you should already be familiar with TensorFlow. If you are not, please refer back to the **TensorFlow Tutorial** of the third week of Course 2 (\"**Improving deep neural networks**\").\n",
    "\n",
    "## Important Note on Submission to the AutoGrader\n",
    "\n",
    "Before submitting your assignment to the AutoGrader, please make sure you are not doing the following:\n",
    "\n",
    "1. You have not added any _extra_ `print` statement(s) in the assignment.\n",
    "2. You have not added any _extra_ code cell(s) in the assignment.\n",
    "3. You have not changed any of the function parameters.\n",
    "4. You are not using any global variables inside your graded exercises. Unless specifically instructed to do so, please refrain from it and use the local variables instead.\n",
    "5. You are not changing the assignment code where it is not required, like creating _extra_ variables.\n",
    "\n",
    "If you do any of the following, you will get something like, `Grader Error: Grader feedback not found` (or similarly unexpected) error upon submitting your assignment. Before asking for help/debugging the errors in your assignment, check for these first. If this is the case, and you don't remember the changes you have made, you can get a fresh copy of the assignment by following these [instructions](https://www.coursera.org/learn/convolutional-neural-networks/supplement/DS4yP/h-ow-to-refresh-your-workspace)."
   ]
  },
  {
   "cell_type": "markdown",
   "metadata": {},
   "source": [
    "## Table of Contents\n",
    "\n",
    "- [1 - Packages](#1)\n",
    "    - [1.1 - Load the Data and Split the Data into Train/Test Sets](#1-1)\n",
    "- [2 - Layers in TF Keras](#2)\n",
    "- [3 - The Sequential API](#3)\n",
    "    - [3.1 - Create the Sequential Model](#3-1)\n",
    "        - [Exercise 1 - happyModel](#ex-1)\n",
    "    - [3.2 - Train and Evaluate the Model](#3-2)\n",
    "- [4 - The Functional API](#4)\n",
    "    - [4.1 - Load the SIGNS Dataset](#4-1)\n",
    "    - [4.2 - Split the Data into Train/Test Sets](#4-2)\n",
    "    - [4.3 - Forward Propagation](#4-3)\n",
    "        - [Exercise 2 - convolutional_model](#ex-2)\n",
    "    - [4.4 - Train the Model](#4-4)\n",
    "- [5 - History Object](#5)\n",
    "- [6 - Bibliography](#6)"
   ]
  },
  {
   "cell_type": "markdown",
   "metadata": {},
   "source": [
    "<a name='1'></a>\n",
    "## 1 - Packages\n",
    "\n",
    "As usual, begin by loading in the packages."
   ]
  },
  {
   "cell_type": "code",
   "execution_count": null,
   "metadata": {
    "deletable": false,
    "editable": false
   },
   "outputs": [],
   "source": [
    "### v1.1"
   ]
  },
  {
   "cell_type": "code",
   "execution_count": 1,
   "metadata": {},
   "outputs": [],
   "source": [
    "import math\n",
    "import numpy as np\n",
    "import h5py\n",
    "import matplotlib.pyplot as plt\n",
    "from matplotlib.pyplot import imread\n",
    "import scipy\n",
    "from PIL import Image\n",
    "import pandas as pd\n",
    "import tensorflow as tf\n",
    "import tensorflow.keras.layers as tfl\n",
    "from tensorflow.python.framework import ops\n",
    "from cnn_utils import *\n",
    "from test_utils import summary, comparator\n",
    "\n",
    "%matplotlib inline\n",
    "np.random.seed(1)"
   ]
  },
  {
   "cell_type": "markdown",
   "metadata": {},
   "source": [
    "<a name='1-1'></a>\n",
    "### 1.1 - Load the Data and Split the Data into Train/Test Sets\n",
    "\n",
    "You'll be using the Happy House dataset for this part of the assignment, which contains images of peoples' faces. Your task will be to build a ConvNet that determines whether the people in the images are smiling or not -- because they only get to enter the house if they're smiling!  "
   ]
  },
  {
   "cell_type": "code",
   "execution_count": 2,
   "metadata": {},
   "outputs": [
    {
     "name": "stdout",
     "output_type": "stream",
     "text": [
      "number of training examples = 600\n",
      "number of test examples = 150\n",
      "X_train shape: (600, 64, 64, 3)\n",
      "Y_train shape: (600, 1)\n",
      "X_test shape: (150, 64, 64, 3)\n",
      "Y_test shape: (150, 1)\n"
     ]
    }
   ],
   "source": [
    "X_train_orig, Y_train_orig, X_test_orig, Y_test_orig, classes = load_happy_dataset()\n",
    "\n",
    "# Normalize image vectors\n",
    "X_train = X_train_orig/255.\n",
    "X_test = X_test_orig/255.\n",
    "\n",
    "# Reshape\n",
    "Y_train = Y_train_orig.T\n",
    "Y_test = Y_test_orig.T\n",
    "\n",
    "print (\"number of training examples = \" + str(X_train.shape[0]))\n",
    "print (\"number of test examples = \" + str(X_test.shape[0]))\n",
    "print (\"X_train shape: \" + str(X_train.shape))\n",
    "print (\"Y_train shape: \" + str(Y_train.shape))\n",
    "print (\"X_test shape: \" + str(X_test.shape))\n",
    "print (\"Y_test shape: \" + str(Y_test.shape))"
   ]
  },
  {
   "cell_type": "markdown",
   "metadata": {},
   "source": [
    "You can display the images contained in the dataset. Images are **64x64** pixels in RGB format (3 channels)."
   ]
  },
  {
   "cell_type": "code",
   "execution_count": 3,
   "metadata": {},
   "outputs": [
    {
     "data": {
      "image/png": "[encoded data removed]",
      "text/plain": [
       "<Figure size 432x288 with 1 Axes>"
      ]
     },
     "metadata": {
      "needs_background": "light"
     },
     "output_type": "display_data"
    }
   ],
   "source": [
    "index = 124\n",
    "plt.imshow(X_train_orig[index]) #display sample training image\n",
    "plt.show()"
   ]
  },
  {
   "cell_type": "markdown",
   "metadata": {},
   "source": [
    "<a name='2'></a>\n",
    "## 2 - Layers in TF Keras \n",
    "\n",
    "In the previous assignment, you created layers manually in numpy. In TF Keras, you don't have to write code directly to create layers. Rather, TF Keras has pre-defined layers you can use. \n",
    "\n",
    "When you create a layer in TF Keras, you are creating a function that takes some input and transforms it into an output you can reuse later. Nice and easy! "
   ]
  },
  {
   "cell_type": "markdown",
   "metadata": {},
   "source": [
    "<a name='3'></a>\n",
    "## 3 - The Sequential API\n",
    "\n",
    "In the previous assignment, you built helper functions using `numpy` to understand the mechanics behind convolutional neural networks. Most practical applications of deep learning today are built using programming frameworks, which have many built-in functions you can simply call. Keras is a high-level abstraction built on top of TensorFlow, which allows for even more simplified and optimized model creation and training. \n",
    "\n",
    "For the first part of this assignment, you'll create a model using TF Keras' Sequential API, which allows you to build layer by layer, and is ideal for building models where each layer has **exactly one** input tensor and **one** output tensor. \n",
    "\n",
    "As you'll see, using the Sequential API is simple and straightforward, but is only appropriate for simpler, more straightforward tasks. Later in this notebook you'll spend some time building with a more flexible, powerful alternative: the Functional API. \n",
    " "
   ]
  },
  {
   "cell_type": "markdown",
   "metadata": {},
   "source": [
    "<a name='3-1'></a>\n",
    "### 3.1 - Create the Sequential Model\n",
    "\n",
    "As mentioned earlier, the TensorFlow Keras Sequential API can be used to build simple models with layer operations that proceed in a sequential order. \n",
    "\n",
    "You can also add layers incrementally to a Sequential model with the `.add()` method, or remove them using the `.pop()` method, much like you would in a regular Python list.\n",
    "\n",
    "Actually, you can think of a Sequential model as behaving like a list of layers. Like Python lists, Sequential layers are ordered, and the order in which they are specified matters.  If your model is non-linear or contains layers with multiple inputs or outputs, a Sequential model wouldn't be the right choice!\n",
    "\n",
    "For any layer construction in Keras, you'll need to specify the input shape in advance. This is because in Keras, the shape of the weights is based on the shape of the inputs. The weights are only created when the model first sees some input data. Sequential models can be created by passing a list of layers to the Sequential constructor, like you will do in the next assignment.\n",
    "\n",
    "<a name='ex-1'></a>\n",
    "### Exercise 1 - happyModel\n",
    "\n",
    "Implement the `happyModel` function below to build the following model: `ZEROPAD2D -> CONV2D -> BATCHNORM -> RELU -> MAXPOOL -> FLATTEN -> DENSE`. Take help from [tf.keras.layers](https://www.tensorflow.org/api_docs/python/tf/keras/layers) \n",
    "\n",
    "Also, plug in the following parameters for all the steps:\n",
    "\n",
    " - [ZeroPadding2D](https://www.tensorflow.org/api_docs/python/tf/keras/layers/ZeroPadding2D): padding 3, input shape 64 x 64 x 3\n",
    " - [Conv2D](https://www.tensorflow.org/api_docs/python/tf/keras/layers/Conv2D): Use 32 7x7 filters, stride 1\n",
    " - [BatchNormalization](https://www.tensorflow.org/api_docs/python/tf/keras/layers/BatchNormalization): for axis 3\n",
    " - [ReLU](https://www.tensorflow.org/api_docs/python/tf/keras/layers/ReLU)\n",
    " - [MaxPool2D](https://www.tensorflow.org/api_docs/python/tf/keras/layers/MaxPool2D): Using default parameters\n",
    " - [Flatten](https://www.tensorflow.org/api_docs/python/tf/keras/layers/Flatten) the previous output.\n",
    " - Fully-connected ([Dense](https://www.tensorflow.org/api_docs/python/tf/keras/layers/Dense)) layer: Apply a fully connected layer with 1 neuron and a sigmoid activation. \n",
    " \n",
    " \n",
    " **Hint:**\n",
    " \n",
    " Use **tfl** as shorthand for **tensorflow.keras.layers**"
   ]
  },
  {
   "cell_type": "code",
   "execution_count": 5,
   "metadata": {
    "deletable": false,
    "nbgrader": {
     "cell_type": "code",
     "checksum": "95d28b191f257bdd5b70c7b8952559d5",
     "grade": false,
     "grade_id": "cell-0e56d3fc28b69aec",
     "locked": false,
     "schema_version": 3,
     "solution": true,
     "task": false
    }
   },
   "outputs": [],
   "source": [
    "# GRADED FUNCTION: happyModel\n",
    "\n",
    "def happyModel():\n",
    "    \"\"\"\n",
    "    Implements the forward propagation for the binary classification model:\n",
    "    ZEROPAD2D -> CONV2D -> BATCHNORM -> RELU -> MAXPOOL -> FLATTEN -> DENSE\n",
    "    \n",
    "    Note that for simplicity and grading purposes, you'll hard-code all the values\n",
    "    such as the stride and kernel (filter) sizes. \n",
    "    Normally, functions should take these values as function parameters.\n",
    "    \n",
    "    Arguments:\n",
    "    None\n",
    "\n",
    "    Returns:\n",
    "    model -- TF Keras model (object containing the information for the entire training process) \n",
    "    \"\"\"\n",
    "    model = tf.keras.Sequential([\n",
    "            ## ZeroPadding2D with padding 3, input shape of 64 x 64 x 3\n",
    "            tfl.ZeroPadding2D(padding=(3, 3), input_shape=(64, 64, 3)),\n",
    "            ## Conv2D with 32 7x7 filters and stride of 1\n",
    "            tfl.Conv2D(32, (7,7)),\n",
    "            ## BatchNormalization for axis 3\n",
    "            tfl.BatchNormalization(axis=-1),\n",
    "            ## ReLU\n",
    "            tfl.ReLU(),\n",
    "            ## Max Pooling 2D with default parameters\n",
    "            tfl.MaxPool2D(),\n",
    "            ## Flatten layer\n",
    "            tfl.Flatten(),\n",
    "            ## Dense layer with 1 unit for output & 'sigmoid' activation\n",
    "            tfl.Dense(1, activation='sigmoid')\n",
    "        ])\n",
    "    \n",
    "    return model"
   ]
  },
  {
   "cell_type": "code",
   "execution_count": 6,
   "metadata": {
    "deletable": false,
    "editable": false,
    "nbgrader": {
     "cell_type": "code",
     "checksum": "8d3575c950e2e78149be2d05d671c80d",
     "grade": true,
     "grade_id": "cell-e3e1046e5c33d775",
     "locked": true,
     "points": 10,
     "schema_version": 3,
     "solution": false,
     "task": false
    }
   },
   "outputs": [
    {
     "name": "stdout",
     "output_type": "stream",
     "text": [
      "['ZeroPadding2D', (None, 70, 70, 3), 0, ((3, 3), (3, 3))]\n",
      "['Conv2D', (None, 64, 64, 32), 4736, 'valid', 'linear', 'GlorotUniform']\n",
      "['BatchNormalization', (None, 64, 64, 32), 128]\n",
      "['ReLU', (None, 64, 64, 32), 0]\n",
      "['MaxPooling2D', (None, 32, 32, 32), 0, (2, 2), (2, 2), 'valid']\n",
      "['Flatten', (None, 32768), 0]\n",
      "['Dense', (None, 1), 32769, 'sigmoid']\n",
      "\u001b[32mAll tests passed!\u001b[0m\n"
     ]
    }
   ],
   "source": [
    "happy_model = happyModel()\n",
    "# Print a summary for each layer\n",
    "for layer in summary(happy_model):\n",
    "    print(layer)\n",
    "    \n",
    "output = [['ZeroPadding2D', (None, 70, 70, 3), 0, ((3, 3), (3, 3))],\n",
    "            ['Conv2D', (None, 64, 64, 32), 4736, 'valid', 'linear', 'GlorotUniform'],\n",
    "            ['BatchNormalization', (None, 64, 64, 32), 128],\n",
    "            ['ReLU', (None, 64, 64, 32), 0],\n",
    "            ['MaxPooling2D', (None, 32, 32, 32), 0, (2, 2), (2, 2), 'valid'],\n",
    "            ['Flatten', (None, 32768), 0],\n",
    "            ['Dense', (None, 1), 32769, 'sigmoid']]\n",
    "    \n",
    "comparator(summary(happy_model), output)"
   ]
  },
  {
   "cell_type": "markdown",
   "metadata": {},
   "source": [
    "#### Expected Output:\n",
    "\n",
    "```\n",
    "['ZeroPadding2D', (None, 70, 70, 3), 0, ((3, 3), (3, 3))]\n",
    "['Conv2D', (None, 64, 64, 32), 4736, 'valid', 'linear', 'GlorotUniform']\n",
    "['BatchNormalization', (None, 64, 64, 32), 128]\n",
    "['ReLU', (None, 64, 64, 32), 0]\n",
    "['MaxPooling2D', (None, 32, 32, 32), 0, (2, 2), (2, 2), 'valid']\n",
    "['Flatten', (None, 32768), 0]\n",
    "['Dense', (None, 1), 32769, 'sigmoid']\n",
    "All tests passed!\n",
    "```"
   ]
  },
  {
   "cell_type": "markdown",
   "metadata": {},
   "source": [
    "Now that your model is created, you can compile it for training with an optimizer and loss of your choice. When the string `accuracy` is specified as a metric, the type of accuracy used will be automatically converted based on the loss function used. This is one of the many optimizations built into TensorFlow that make your life easier! If you'd like to read more on how the compiler operates, check the docs [here](https://www.tensorflow.org/api_docs/python/tf/keras/Model#compile)."
   ]
  },
  {
   "cell_type": "code",
   "execution_count": 7,
   "metadata": {},
   "outputs": [],
   "source": [
    "happy_model.compile(optimizer='adam',\n",
    "                   loss='binary_crossentropy',\n",
    "                   metrics=['accuracy'])"
   ]
  },
  {
   "cell_type": "markdown",
   "metadata": {},
   "source": [
    "It's time to check your model's parameters with the `.summary()` method. This will display the types of layers you have, the shape of the outputs, and how many parameters are in each layer. "
   ]
  },
  {
   "cell_type": "code",
   "execution_count": 8,
   "metadata": {},
   "outputs": [
    {
     "name": "stdout",
     "output_type": "stream",
     "text": [
      "Model: \"sequential\"\n",
      "_________________________________________________________________\n",
      "Layer (type)                 Output Shape              Param #   \n",
      "=================================================================\n",
      "zero_padding2d (ZeroPadding2 (None, 70, 70, 3)         0         \n",
      "_________________________________________________________________\n",
      "conv2d (Conv2D)              (None, 64, 64, 32)        4736      \n",
      "_________________________________________________________________\n",
      "batch_normalization (BatchNo (None, 64, 64, 32)        128       \n",
      "_________________________________________________________________\n",
      "re_lu (ReLU)                 (None, 64, 64, 32)        0         \n",
      "_________________________________________________________________\n",
      "max_pooling2d (MaxPooling2D) (None, 32, 32, 32)        0         \n",
      "_________________________________________________________________\n",
      "flatten (Flatten)            (None, 32768)             0         \n",
      "_________________________________________________________________\n",
      "dense (Dense)                (None, 1)                 32769     \n",
      "=================================================================\n",
      "Total params: 37,633\n",
      "Trainable params: 37,569\n",
      "Non-trainable params: 64\n",
      "_________________________________________________________________\n"
     ]
    }
   ],
   "source": [
    "happy_model.summary()"
   ]
  },
  {
   "cell_type": "markdown",
   "metadata": {},
   "source": [
    "<a name='3-2'></a>\n",
    "### 3.2 - Train and Evaluate the Model\n",
    "\n",
    "After creating the model, compiling it with your choice of optimizer and loss function, and doing a sanity check on its contents, you are now ready to build! \n",
    "\n",
    "Simply call `.fit()` to train. That's it! No need for mini-batching, saving, or complex backpropagation computations. That's all been done for you, as you're using a TensorFlow dataset with the batches specified already. You do have the option to specify epoch number or minibatch size if you like (for example, in the case of an un-batched dataset)."
   ]
  },
  {
   "cell_type": "code",
   "execution_count": 9,
   "metadata": {},
   "outputs": [
    {
     "name": "stdout",
     "output_type": "stream",
     "text": [
      "Epoch 1/10\n",
      "38/38 [==============================] - 4s 100ms/step - loss: 1.9262 - accuracy: 0.6633\n",
      "Epoch 2/10\n",
      "38/38 [==============================] - 4s 97ms/step - loss: 0.2128 - accuracy: 0.9150\n",
      "Epoch 3/10\n",
      "38/38 [==============================] - 4s 98ms/step - loss: 0.3199 - accuracy: 0.8767\n",
      "Epoch 4/10\n",
      "38/38 [==============================] - 4s 97ms/step - loss: 0.1347 - accuracy: 0.9517\n",
      "Epoch 5/10\n",
      "38/38 [==============================] - 4s 97ms/step - loss: 0.1142 - accuracy: 0.9633\n",
      "Epoch 6/10\n",
      "38/38 [==============================] - 4s 97ms/step - loss: 0.1044 - accuracy: 0.9717\n",
      "Epoch 7/10\n",
      "38/38 [==============================] - 4s 100ms/step - loss: 0.1012 - accuracy: 0.9633\n",
      "Epoch 8/10\n",
      "38/38 [==============================] - 4s 97ms/step - loss: 0.0916 - accuracy: 0.9683\n",
      "Epoch 9/10\n",
      "38/38 [==============================] - 4s 95ms/step - loss: 0.0703 - accuracy: 0.9783\n",
      "Epoch 10/10\n",
      "38/38 [==============================] - 4s 95ms/step - loss: 0.0766 - accuracy: 0.9700\n"
     ]
    },
    {
     "data": {
      "text/plain": [
       "<tensorflow.python.keras.callbacks.History at 0x73a2c0620050>"
      ]
     },
     "execution_count": 9,
     "metadata": {},
     "output_type": "execute_result"
    }
   ],
   "source": [
    "happy_model.fit(X_train, Y_train, epochs=10, batch_size=16)"
   ]
  },
  {
   "cell_type": "markdown",
   "metadata": {},
   "source": [
    "After that completes, just use `.evaluate()` to evaluate against your test set. This function will print the value of the loss function and the performance metrics specified during the compilation of the model. In this case, the `binary_crossentropy` and the `accuracy` respectively."
   ]
  },
  {
   "cell_type": "code",
   "execution_count": 10,
   "metadata": {},
   "outputs": [
    {
     "name": "stdout",
     "output_type": "stream",
     "text": [
      "5/5 [==============================] - 0s 38ms/step - loss: 0.1599 - accuracy: 0.9467\n"
     ]
    },
    {
     "data": {
      "text/plain": [
       "[0.15993885695934296, 0.9466666579246521]"
      ]
     },
     "execution_count": 10,
     "metadata": {},
     "output_type": "execute_result"
    }
   ],
   "source": [
    "happy_model.evaluate(X_test, Y_test)"
   ]
  },
  {
   "cell_type": "markdown",
   "metadata": {},
   "source": [
    "Easy, right? But what if you need to build a model with shared layers, branches, or multiple inputs and outputs? This is where Sequential, with its beautifully simple yet limited functionality, won't be able to help you. \n",
    "\n",
    "Next up: Enter the Functional API, your slightly more complex, highly flexible friend.  "
   ]
  },
  {
   "cell_type": "markdown",
   "metadata": {},
   "source": [
    "<a name='4'></a>\n",
    "## 4 - The Functional API"
   ]
  },
  {
   "cell_type": "markdown",
   "metadata": {},
   "source": [
    "Welcome to the second half of the assignment, where you'll use Keras' flexible [Functional API](https://www.tensorflow.org/guide/keras/functional) to build a ConvNet that can differentiate between 6 sign language digits. \n",
    "\n",
    "The Functional API can handle models with non-linear topology, shared layers, as well as layers with multiple inputs or outputs. Imagine that, where the Sequential API requires the model to move in a linear fashion through its layers, the Functional API allows much more flexibility. Where Sequential is a straight line, a Functional model is a graph, where the nodes of the layers can connect in many more ways than one. \n",
    "\n",
    "In the visual example below, the one possible direction of the movement Sequential model is shown in contrast to a skip connection, which is just one of the many ways a Functional model can be constructed. A skip connection, as you might have guessed, skips some layer in the network and feeds the output to a later layer in the network. Don't worry, you'll be spending more time with skip connections very soon! "
   ]
  },
  {
   "cell_type": "markdown",
   "metadata": {},
   "source": [
    "<img src=\"images/seq_vs_func.png\" style=\"width:350px;height:200px;\">"
   ]
  },
  {
   "cell_type": "markdown",
   "metadata": {},
   "source": [
    "<a name='4-1'></a>\n",
    "### 4.1 - Load the SIGNS Dataset\n",
    "\n",
    "As a reminder, the SIGNS dataset is a collection of 6 signs representing numbers from 0 to 5."
   ]
  },
  {
   "cell_type": "code",
   "execution_count": null,
   "metadata": {},
   "outputs": [],
   "source": [
    "# Loading the data (signs)\n",
    "X_train_orig, Y_train_orig, X_test_orig, Y_test_orig, classes = load_signs_dataset()"
   ]
  },
  {
   "cell_type": "markdown",
   "metadata": {},
   "source": [
    "<img src=\"images/SIGNS.png\" style=\"width:800px;height:300px;\">\n",
    "\n",
    "The next cell will show you an example of a labelled image in the dataset. Feel free to change the value of `index` below and re-run to see different examples. "
   ]
  },
  {
   "cell_type": "code",
   "execution_count": 11,
   "metadata": {},
   "outputs": [
    {
     "name": "stdout",
     "output_type": "stream",
     "text": [
      "y = 1\n"
     ]
    },
    {
     "data": {
      "image/png": "[encoded data removed]",
      "text/plain": [
       "<Figure size 432x288 with 1 Axes>"
      ]
     },
     "metadata": {
      "needs_background": "light"
     },
     "output_type": "display_data"
    }
   ],
   "source": [
    "# Example of an image from the dataset\n",
    "index = 9\n",
    "plt.imshow(X_train_orig[index])\n",
    "print (\"y = \" + str(np.squeeze(Y_train_orig[:, index])))"
   ]
  },
  {
   "cell_type": "markdown",
   "metadata": {},
   "source": [
    "<a name='4-2'></a>\n",
    "### 4.2 - Split the Data into Train/Test Sets\n",
    "\n",
    "In Course 2, you built a fully-connected network for this dataset. But since this is an image dataset, it is more natural to apply a ConvNet to it.\n",
    "\n",
    "To get started, let's examine the shapes of your data. "
   ]
  },
  {
   "cell_type": "code",
   "execution_count": 12,
   "metadata": {},
   "outputs": [
    {
     "name": "stdout",
     "output_type": "stream",
     "text": [
      "number of training examples = 600\n",
      "number of test examples = 150\n",
      "X_train shape: (600, 64, 64, 3)\n",
      "Y_train shape: (600, 6)\n",
      "X_test shape: (150, 64, 64, 3)\n",
      "Y_test shape: (150, 6)\n"
     ]
    }
   ],
   "source": [
    "X_train = X_train_orig/255.\n",
    "X_test = X_test_orig/255.\n",
    "Y_train = convert_to_one_hot(Y_train_orig, 6).T\n",
    "Y_test = convert_to_one_hot(Y_test_orig, 6).T\n",
    "print (\"number of training examples = \" + str(X_train.shape[0]))\n",
    "print (\"number of test examples = \" + str(X_test.shape[0]))\n",
    "print (\"X_train shape: \" + str(X_train.shape))\n",
    "print (\"Y_train shape: \" + str(Y_train.shape))\n",
    "print (\"X_test shape: \" + str(X_test.shape))\n",
    "print (\"Y_test shape: \" + str(Y_test.shape))"
   ]
  },
  {
   "cell_type": "markdown",
   "metadata": {},
   "source": [
    "<a name='4-3'></a>\n",
    "### 4.3 - Forward Propagation\n",
    "\n",
    "In TensorFlow, there are built-in functions that implement the convolution steps for you. By now, you should be familiar with how TensorFlow builds computational graphs. In the [Functional API](https://www.tensorflow.org/guide/keras/functional), you create a graph of layers. This is what allows such great flexibility.\n",
    "\n",
    "However, the following model could also be defined using the Sequential API since the information flow is on a single line. But don't deviate. What we want you to learn is to use the functional API.\n",
    "\n",
    "Begin building your graph of layers by creating an input node that functions as a callable object:\n",
    "\n",
    "- **input_img = tf.keras.Input(shape=input_shape):** \n",
    "\n",
    "Then, create a new node in the graph of layers by calling a layer on the `input_img` object: \n",
    "\n",
    "- **tf.keras.layers.Conv2D(filters= ... , kernel_size= ... , padding='same')(input_img):** Read the full documentation on [Conv2D](https://www.tensorflow.org/api_docs/python/tf/keras/layers/Conv2D).\n",
    "\n",
    "- **tf.keras.layers.MaxPool2D(pool_size=(f, f), strides=(s, s), padding='same'):** `MaxPool2D()` downsamples your input using a window of size (f, f) and strides of size (s, s) to carry out max pooling over each window.  For max pooling, you usually operate on a single example at a time and a single channel at a time. Read the full documentation on [MaxPool2D](https://www.tensorflow.org/api_docs/python/tf/keras/layers/MaxPool2D).\n",
    "\n",
    "- **tf.keras.layers.ReLU():** computes the elementwise ReLU of Z (which can be any shape). You can read the full documentation on [ReLU](https://www.tensorflow.org/api_docs/python/tf/keras/layers/ReLU).\n",
    "\n",
    "- **tf.keras.layers.Flatten()**: given a tensor \"P\", this function takes each training (or test) example in the batch and flattens it into a 1D vector.  \n",
    "\n",
    "    * If a tensor P has the shape (batch_size,h,w,c), it returns a flattened tensor with shape (batch_size, k), where $k=h \\times w \\times c$.  \"k\" equals the product of all the dimension sizes other than the first dimension.\n",
    "    \n",
    "    * For example, given a tensor with dimensions [100, 2, 3, 4], it flattens the tensor to be of shape [100, 24], where 24 = 2 * 3 * 4.  You can read the full documentation on [Flatten](https://www.tensorflow.org/api_docs/python/tf/keras/layers/Flatten).\n",
    "\n",
    "- **tf.keras.layers.Dense(units= ... , activation='softmax')(F):** given the flattened input F, it returns the output computed using a fully connected layer. You can read the full documentation on [Dense](https://www.tensorflow.org/api_docs/python/tf/keras/layers/Dense).\n",
    "\n",
    "In the last function above (`tf.keras.layers.Dense()`), the fully connected layer automatically initializes weights in the graph and keeps on training them as you train the model. Hence, you did not need to initialize those weights when initializing the parameters.\n",
    "\n",
    "Lastly, before creating the model, you'll need to define the output using the last of the function's compositions (in this example, a Dense layer): \n",
    "\n",
    "- **outputs = tf.keras.layers.Dense(units=6, activation='softmax')(F)**\n",
    "\n",
    "\n",
    "#### Window, kernel, filter, pool\n",
    "\n",
    "The words \"kernel\" and \"filter\" are used to refer to the same thing. The word \"filter\" accounts for the amount of \"kernels\" that will be used in a single convolution layer. \"Pool\" is the name of the operation that takes the max or average value of the kernels. \n",
    "\n",
    "This is why the parameter `pool_size` refers to `kernel_size`, and you use `(f,f)` to refer to the filter size. \n",
    "\n",
    "Pool size and kernel size refer to the same thing in different objects - They refer to the shape of the window where the operation takes place. "
   ]
  },
  {
   "cell_type": "markdown",
   "metadata": {},
   "source": [
    "<a name='ex-2'></a>\n",
    "### Exercise 2 - convolutional_model\n",
    "\n",
    "Implement the `convolutional_model` function below to build the following model: `CONV2D -> RELU -> MAXPOOL -> CONV2D -> RELU -> MAXPOOL -> FLATTEN -> DENSE`. Use the functions above! \n",
    "\n",
    "Also, plug in the following parameters for all the steps:\n",
    "\n",
    " - [Conv2D](https://www.tensorflow.org/api_docs/python/tf/keras/layers/Conv2D): Use 8 4 by 4 filters, stride 1, padding is \"SAME\"\n",
    " - [ReLU](https://www.tensorflow.org/api_docs/python/tf/keras/layers/ReLU)\n",
    " - [MaxPool2D](https://www.tensorflow.org/api_docs/python/tf/keras/layers/MaxPool2D): Use an 8 by 8 filter size and an 8 by 8 stride, padding is \"SAME\"\n",
    " - **Conv2D**: Use 16 2 by 2 filters, stride 1, padding is \"SAME\"\n",
    " - **ReLU**\n",
    " - **MaxPool2D**: Use a 4 by 4 filter size and a 4 by 4 stride, padding is \"SAME\"\n",
    " - [Flatten](https://www.tensorflow.org/api_docs/python/tf/keras/layers/Flatten) the previous output.\n",
    " - Fully-connected ([Dense](https://www.tensorflow.org/api_docs/python/tf/keras/layers/Dense)) layer: Apply a fully connected layer with 6 neurons and a softmax activation. "
   ]
  },
  {
   "cell_type": "code",
   "execution_count": 13,
   "metadata": {
    "deletable": false,
    "nbgrader": {
     "cell_type": "code",
     "checksum": "f58643806aa8380c96225fc8b4c5e7aa",
     "grade": false,
     "grade_id": "cell-dac51744a9e03f51",
     "locked": false,
     "schema_version": 3,
     "solution": true,
     "task": false
    }
   },
   "outputs": [],
   "source": [
    "# GRADED FUNCTION: convolutional_model\n",
    "\n",
    "def convolutional_model(input_shape):\n",
    "    \"\"\"\n",
    "    Implements the forward propagation for the model:\n",
    "    CONV2D -> RELU -> MAXPOOL -> CONV2D -> RELU -> MAXPOOL -> FLATTEN -> DENSE\n",
    "    \n",
    "    Note that for simplicity and grading purposes, you'll hard-code some values\n",
    "    such as the stride and kernel (filter) sizes. \n",
    "    Normally, functions should take these values as function parameters.\n",
    "    \n",
    "    Arguments:\n",
    "    input_img -- input dataset, of shape (input_shape)\n",
    "\n",
    "    Returns:\n",
    "    model -- TF Keras model (object containing the information for the entire training process) \n",
    "    \"\"\"\n",
    "\n",
    "    input_img = tf.keras.Input(shape=input_shape)\n",
    "    ## CONV2D: 8 filters 4x4, stride of 1, padding 'SAME'\n",
    "    # Z1 = None\n",
    "    ## RELU\n",
    "    # A1 = None\n",
    "    ## MAXPOOL: window 8x8, stride 8, padding 'SAME'\n",
    "    # P1 = None\n",
    "    ## CONV2D: 16 filters 2x2, stride 1, padding 'SAME'\n",
    "    # Z2 = None\n",
    "    ## RELU\n",
    "    # A2 = None\n",
    "    ## MAXPOOL: window 4x4, stride 4, padding 'SAME'\n",
    "    # P2 = None\n",
    "    ## FLATTEN\n",
    "    # F = None\n",
    "    ## Dense layer\n",
    "    ## 6 neurons in output layer. Hint: one of the arguments should be \"activation='softmax'\" \n",
    "    # outputs = None\n",
    "    # YOUR CODE STARTS HERE\n",
    "    Z1 = tfl.Conv2D(8, 4, activation='linear', padding=\"same\", strides=1)(input_img)\n",
    "    A1 = tfl.ReLU()(Z1)\n",
    "    P1 = tfl.MaxPool2D(pool_size=(8, 8), strides=(8, 8), padding='same')(A1)\n",
    "    Z2 = tfl.Conv2D(16, 2, activation='linear', padding=\"same\", strides=1)(P1)\n",
    "    A2 = tfl.ReLU()(Z2)\n",
    "    P2 = tfl.MaxPool2D(pool_size=(4, 4), strides=(4, 4), padding='same')(A2)\n",
    "    F = tfl.Flatten()(P2)\n",
    "    outputs = tfl.Dense(6, activation='softmax')(F)\n",
    "    \n",
    "    # YOUR CODE ENDS HERE\n",
    "    model = tf.keras.Model(inputs=input_img, outputs=outputs)\n",
    "    return model"
   ]
  },
  {
   "cell_type": "code",
   "execution_count": 14,
   "metadata": {
    "deletable": false,
    "editable": false,
    "nbgrader": {
     "cell_type": "code",
     "checksum": "483d626949930a0b0ef20997e7c6ba72",
     "grade": true,
     "grade_id": "cell-45d22e92042174c9",
     "locked": true,
     "points": 10,
     "schema_version": 3,
     "solution": false,
     "task": false
    }
   },
   "outputs": [
    {
     "name": "stdout",
     "output_type": "stream",
     "text": [
      "Model: \"functional_1\"\n",
      "_________________________________________________________________\n",
      "Layer (type)                 Output Shape              Param #   \n",
      "=================================================================\n",
      "input_1 (InputLayer)         [(None, 64, 64, 3)]       0         \n",
      "_________________________________________________________________\n",
      "conv2d_1 (Conv2D)            (None, 64, 64, 8)         392       \n",
      "_________________________________________________________________\n",
      "re_lu_1 (ReLU)               (None, 64, 64, 8)         0         \n",
      "_________________________________________________________________\n",
      "max_pooling2d_1 (MaxPooling2 (None, 8, 8, 8)           0         \n",
      "_________________________________________________________________\n",
      "conv2d_2 (Conv2D)            (None, 8, 8, 16)          528       \n",
      "_________________________________________________________________\n",
      "re_lu_2 (ReLU)               (None, 8, 8, 16)          0         \n",
      "_________________________________________________________________\n",
      "max_pooling2d_2 (MaxPooling2 (None, 2, 2, 16)          0         \n",
      "_________________________________________________________________\n",
      "flatten_1 (Flatten)          (None, 64)                0         \n",
      "_________________________________________________________________\n",
      "dense_1 (Dense)              (None, 6)                 390       \n",
      "=================================================================\n",
      "Total params: 1,310\n",
      "Trainable params: 1,310\n",
      "Non-trainable params: 0\n",
      "_________________________________________________________________\n",
      "\u001b[32mAll tests passed!\u001b[0m\n"
     ]
    }
   ],
   "source": [
    "conv_model = convolutional_model((64, 64, 3))\n",
    "conv_model.compile(optimizer='adam',\n",
    "                  loss='categorical_crossentropy',\n",
    "                  metrics=['accuracy'])\n",
    "conv_model.summary()\n",
    "    \n",
    "output = [['InputLayer', [(None, 64, 64, 3)], 0],\n",
    "        ['Conv2D', (None, 64, 64, 8), 392, 'same', 'linear', 'GlorotUniform'],\n",
    "        ['ReLU', (None, 64, 64, 8), 0],\n",
    "        ['MaxPooling2D', (None, 8, 8, 8), 0, (8, 8), (8, 8), 'same'],\n",
    "        ['Conv2D', (None, 8, 8, 16), 528, 'same', 'linear', 'GlorotUniform'],\n",
    "        ['ReLU', (None, 8, 8, 16), 0],\n",
    "        ['MaxPooling2D', (None, 2, 2, 16), 0, (4, 4), (4, 4), 'same'],\n",
    "        ['Flatten', (None, 64), 0],\n",
    "        ['Dense', (None, 6), 390, 'softmax']]\n",
    "    \n",
    "comparator(summary(conv_model), output)"
   ]
  },
  {
   "cell_type": "markdown",
   "metadata": {},
   "source": [
    "Both the Sequential and Functional APIs return a TF Keras model object. The only difference is how inputs are handled inside the object model! "
   ]
  },
  {
   "cell_type": "markdown",
   "metadata": {},
   "source": [
    "<a name='4-4'></a>\n",
    "### 4.4 - Train the Model"
   ]
  },
  {
   "cell_type": "code",
   "execution_count": 15,
   "metadata": {},
   "outputs": [
    {
     "name": "stdout",
     "output_type": "stream",
     "text": [
      "Epoch 1/100\n",
      "10/10 [==============================] - 1s 120ms/step - loss: 1.7591 - accuracy: 0.2050 - val_loss: 1.5558 - val_accuracy: 0.4333\n",
      "Epoch 2/100\n",
      "10/10 [==============================] - 1s 101ms/step - loss: 1.3701 - accuracy: 0.5000 - val_loss: 1.2323 - val_accuracy: 0.4400\n",
      "Epoch 3/100\n",
      "10/10 [==============================] - 1s 100ms/step - loss: 1.0554 - accuracy: 0.5000 - val_loss: 0.9149 - val_accuracy: 0.4600\n",
      "Epoch 4/100\n",
      "10/10 [==============================] - 1s 109ms/step - loss: 0.8154 - accuracy: 0.4833 - val_loss: 0.7295 - val_accuracy: 0.5333\n",
      "Epoch 5/100\n",
      "10/10 [==============================] - 1s 101ms/step - loss: 0.7260 - accuracy: 0.4800 - val_loss: 0.7049 - val_accuracy: 0.4333\n",
      "Epoch 6/100\n",
      "10/10 [==============================] - 1s 110ms/step - loss: 0.7069 - accuracy: 0.4617 - val_loss: 0.6879 - val_accuracy: 0.6067\n",
      "Epoch 7/100\n",
      "10/10 [==============================] - 1s 109ms/step - loss: 0.6988 - accuracy: 0.5283 - val_loss: 0.6865 - val_accuracy: 0.4667\n",
      "Epoch 8/100\n",
      "10/10 [==============================] - 1s 100ms/step - loss: 0.6939 - accuracy: 0.5300 - val_loss: 0.6777 - val_accuracy: 0.6200\n",
      "Epoch 9/100\n",
      "10/10 [==============================] - 1s 109ms/step - loss: 0.6881 - accuracy: 0.5900 - val_loss: 0.6761 - val_accuracy: 0.5333\n",
      "Epoch 10/100\n",
      "10/10 [==============================] - 1s 100ms/step - loss: 0.6840 - accuracy: 0.5833 - val_loss: 0.6705 - val_accuracy: 0.6133\n",
      "Epoch 11/100\n",
      "10/10 [==============================] - 1s 101ms/step - loss: 0.6790 - accuracy: 0.6117 - val_loss: 0.6682 - val_accuracy: 0.5933\n",
      "Epoch 12/100\n",
      "10/10 [==============================] - 1s 100ms/step - loss: 0.6750 - accuracy: 0.6333 - val_loss: 0.6648 - val_accuracy: 0.6133\n",
      "Epoch 13/100\n",
      "10/10 [==============================] - 1s 101ms/step - loss: 0.6705 - accuracy: 0.6400 - val_loss: 0.6624 - val_accuracy: 0.6333\n",
      "Epoch 14/100\n",
      "10/10 [==============================] - 1s 108ms/step - loss: 0.6664 - accuracy: 0.6583 - val_loss: 0.6590 - val_accuracy: 0.6467\n",
      "Epoch 15/100\n",
      "10/10 [==============================] - 1s 109ms/step - loss: 0.6617 - accuracy: 0.6817 - val_loss: 0.6557 - val_accuracy: 0.6867\n",
      "Epoch 16/100\n",
      "10/10 [==============================] - 1s 100ms/step - loss: 0.6567 - accuracy: 0.7067 - val_loss: 0.6520 - val_accuracy: 0.6933\n",
      "Epoch 17/100\n",
      "10/10 [==============================] - 1s 110ms/step - loss: 0.6511 - accuracy: 0.7183 - val_loss: 0.6479 - val_accuracy: 0.7200\n",
      "Epoch 18/100\n",
      "10/10 [==============================] - 1s 100ms/step - loss: 0.6453 - accuracy: 0.7367 - val_loss: 0.6434 - val_accuracy: 0.7267\n",
      "Epoch 19/100\n",
      "10/10 [==============================] - 1s 101ms/step - loss: 0.6388 - accuracy: 0.7417 - val_loss: 0.6394 - val_accuracy: 0.7267\n",
      "Epoch 20/100\n",
      "10/10 [==============================] - 1s 101ms/step - loss: 0.6323 - accuracy: 0.7467 - val_loss: 0.6347 - val_accuracy: 0.7267\n",
      "Epoch 21/100\n",
      "10/10 [==============================] - 1s 109ms/step - loss: 0.6252 - accuracy: 0.7467 - val_loss: 0.6296 - val_accuracy: 0.7333\n",
      "Epoch 22/100\n",
      "10/10 [==============================] - 1s 109ms/step - loss: 0.6176 - accuracy: 0.7483 - val_loss: 0.6250 - val_accuracy: 0.7333\n",
      "Epoch 23/100\n",
      "10/10 [==============================] - 1s 100ms/step - loss: 0.6102 - accuracy: 0.7483 - val_loss: 0.6189 - val_accuracy: 0.7333\n",
      "Epoch 24/100\n",
      "10/10 [==============================] - 1s 110ms/step - loss: 0.6025 - accuracy: 0.7533 - val_loss: 0.6127 - val_accuracy: 0.7267\n",
      "Epoch 25/100\n",
      "10/10 [==============================] - 1s 109ms/step - loss: 0.5944 - accuracy: 0.7583 - val_loss: 0.6059 - val_accuracy: 0.7267\n",
      "Epoch 26/100\n",
      "10/10 [==============================] - 1s 100ms/step - loss: 0.5858 - accuracy: 0.7650 - val_loss: 0.5992 - val_accuracy: 0.7267\n",
      "Epoch 27/100\n",
      "10/10 [==============================] - 1s 110ms/step - loss: 0.5771 - accuracy: 0.7650 - val_loss: 0.5930 - val_accuracy: 0.7267\n",
      "Epoch 28/100\n",
      "10/10 [==============================] - 1s 109ms/step - loss: 0.5682 - accuracy: 0.7767 - val_loss: 0.5857 - val_accuracy: 0.7333\n",
      "Epoch 29/100\n",
      "10/10 [==============================] - 1s 100ms/step - loss: 0.5587 - accuracy: 0.7833 - val_loss: 0.5782 - val_accuracy: 0.7400\n",
      "Epoch 30/100\n",
      "10/10 [==============================] - 1s 101ms/step - loss: 0.5488 - accuracy: 0.7867 - val_loss: 0.5695 - val_accuracy: 0.7467\n",
      "Epoch 31/100\n",
      "10/10 [==============================] - 1s 109ms/step - loss: 0.5386 - accuracy: 0.7933 - val_loss: 0.5607 - val_accuracy: 0.7467\n",
      "Epoch 32/100\n",
      "10/10 [==============================] - 1s 101ms/step - loss: 0.5275 - accuracy: 0.8017 - val_loss: 0.5521 - val_accuracy: 0.7600\n",
      "Epoch 33/100\n",
      "10/10 [==============================] - 1s 100ms/step - loss: 0.5177 - accuracy: 0.8067 - val_loss: 0.5443 - val_accuracy: 0.7533\n",
      "Epoch 34/100\n",
      "10/10 [==============================] - 1s 110ms/step - loss: 0.5072 - accuracy: 0.8067 - val_loss: 0.5353 - val_accuracy: 0.7533\n",
      "Epoch 35/100\n",
      "10/10 [==============================] - 1s 101ms/step - loss: 0.4967 - accuracy: 0.8133 - val_loss: 0.5263 - val_accuracy: 0.7600\n",
      "Epoch 36/100\n",
      "10/10 [==============================] - 1s 100ms/step - loss: 0.4863 - accuracy: 0.8200 - val_loss: 0.5197 - val_accuracy: 0.7533\n",
      "Epoch 37/100\n",
      "10/10 [==============================] - 1s 101ms/step - loss: 0.4770 - accuracy: 0.8317 - val_loss: 0.5131 - val_accuracy: 0.7467\n",
      "Epoch 38/100\n",
      "10/10 [==============================] - 1s 110ms/step - loss: 0.4675 - accuracy: 0.8317 - val_loss: 0.5049 - val_accuracy: 0.7467\n",
      "Epoch 39/100\n",
      "10/10 [==============================] - 1s 110ms/step - loss: 0.4580 - accuracy: 0.8333 - val_loss: 0.4971 - val_accuracy: 0.7533\n",
      "Epoch 40/100\n",
      "10/10 [==============================] - 1s 110ms/step - loss: 0.4490 - accuracy: 0.8367 - val_loss: 0.4895 - val_accuracy: 0.7533\n",
      "Epoch 41/100\n",
      "10/10 [==============================] - 1s 101ms/step - loss: 0.4401 - accuracy: 0.8417 - val_loss: 0.4828 - val_accuracy: 0.7533\n",
      "Epoch 42/100\n",
      "10/10 [==============================] - 1s 100ms/step - loss: 0.4320 - accuracy: 0.8450 - val_loss: 0.4768 - val_accuracy: 0.7533\n",
      "Epoch 43/100\n",
      "10/10 [==============================] - 1s 109ms/step - loss: 0.4241 - accuracy: 0.8467 - val_loss: 0.4695 - val_accuracy: 0.7667\n",
      "Epoch 44/100\n",
      "10/10 [==============================] - 1s 101ms/step - loss: 0.4163 - accuracy: 0.8500 - val_loss: 0.4637 - val_accuracy: 0.7667\n",
      "Epoch 45/100\n",
      "10/10 [==============================] - 1s 100ms/step - loss: 0.4091 - accuracy: 0.8517 - val_loss: 0.4582 - val_accuracy: 0.7667\n",
      "Epoch 46/100\n",
      "10/10 [==============================] - 1s 110ms/step - loss: 0.4022 - accuracy: 0.8533 - val_loss: 0.4513 - val_accuracy: 0.7667\n",
      "Epoch 47/100\n",
      "10/10 [==============================] - 1s 109ms/step - loss: 0.3950 - accuracy: 0.8533 - val_loss: 0.4441 - val_accuracy: 0.7800\n",
      "Epoch 48/100\n",
      "10/10 [==============================] - 1s 101ms/step - loss: 0.3880 - accuracy: 0.8550 - val_loss: 0.4374 - val_accuracy: 0.7867\n",
      "Epoch 49/100\n",
      "10/10 [==============================] - 1s 100ms/step - loss: 0.3817 - accuracy: 0.8567 - val_loss: 0.4317 - val_accuracy: 0.7867\n",
      "Epoch 50/100\n",
      "10/10 [==============================] - 1s 110ms/step - loss: 0.3756 - accuracy: 0.8583 - val_loss: 0.4262 - val_accuracy: 0.8000\n",
      "Epoch 51/100\n",
      "10/10 [==============================] - 1s 110ms/step - loss: 0.3697 - accuracy: 0.8567 - val_loss: 0.4202 - val_accuracy: 0.8067\n",
      "Epoch 52/100\n",
      "10/10 [==============================] - 1s 101ms/step - loss: 0.3639 - accuracy: 0.8617 - val_loss: 0.4145 - val_accuracy: 0.8133\n",
      "Epoch 53/100\n",
      "10/10 [==============================] - 1s 110ms/step - loss: 0.3588 - accuracy: 0.8650 - val_loss: 0.4104 - val_accuracy: 0.8133\n",
      "Epoch 54/100\n",
      "10/10 [==============================] - 1s 101ms/step - loss: 0.3536 - accuracy: 0.8617 - val_loss: 0.4058 - val_accuracy: 0.8200\n",
      "Epoch 55/100\n",
      "10/10 [==============================] - 1s 100ms/step - loss: 0.3485 - accuracy: 0.8667 - val_loss: 0.4012 - val_accuracy: 0.8200\n",
      "Epoch 56/100\n",
      "10/10 [==============================] - 1s 110ms/step - loss: 0.3438 - accuracy: 0.8700 - val_loss: 0.3966 - val_accuracy: 0.8267\n",
      "Epoch 57/100\n",
      "10/10 [==============================] - 1s 100ms/step - loss: 0.3390 - accuracy: 0.8733 - val_loss: 0.3928 - val_accuracy: 0.8333\n",
      "Epoch 58/100\n",
      "10/10 [==============================] - 1s 100ms/step - loss: 0.3347 - accuracy: 0.8733 - val_loss: 0.3896 - val_accuracy: 0.8267\n",
      "Epoch 59/100\n",
      "10/10 [==============================] - 1s 101ms/step - loss: 0.3306 - accuracy: 0.8733 - val_loss: 0.3857 - val_accuracy: 0.8267\n",
      "Epoch 60/100\n",
      "10/10 [==============================] - 1s 100ms/step - loss: 0.3265 - accuracy: 0.8733 - val_loss: 0.3819 - val_accuracy: 0.8267\n",
      "Epoch 61/100\n",
      "10/10 [==============================] - 1s 109ms/step - loss: 0.3227 - accuracy: 0.8750 - val_loss: 0.3784 - val_accuracy: 0.8267\n",
      "Epoch 62/100\n",
      "10/10 [==============================] - 1s 101ms/step - loss: 0.3191 - accuracy: 0.8800 - val_loss: 0.3766 - val_accuracy: 0.8267\n",
      "Epoch 63/100\n",
      "10/10 [==============================] - 1s 101ms/step - loss: 0.3154 - accuracy: 0.8783 - val_loss: 0.3731 - val_accuracy: 0.8333\n",
      "Epoch 64/100\n",
      "10/10 [==============================] - 1s 101ms/step - loss: 0.3117 - accuracy: 0.8833 - val_loss: 0.3696 - val_accuracy: 0.8333\n",
      "Epoch 65/100\n",
      "10/10 [==============================] - 1s 101ms/step - loss: 0.3079 - accuracy: 0.8833 - val_loss: 0.3659 - val_accuracy: 0.8400\n",
      "Epoch 66/100\n",
      "10/10 [==============================] - 1s 109ms/step - loss: 0.3044 - accuracy: 0.8833 - val_loss: 0.3629 - val_accuracy: 0.8467\n",
      "Epoch 67/100\n",
      "10/10 [==============================] - 1s 100ms/step - loss: 0.3011 - accuracy: 0.8817 - val_loss: 0.3597 - val_accuracy: 0.8467\n",
      "Epoch 68/100\n",
      "10/10 [==============================] - 1s 101ms/step - loss: 0.2981 - accuracy: 0.8817 - val_loss: 0.3578 - val_accuracy: 0.8467\n",
      "Epoch 69/100\n",
      "10/10 [==============================] - 1s 101ms/step - loss: 0.2945 - accuracy: 0.8833 - val_loss: 0.3545 - val_accuracy: 0.8467\n",
      "Epoch 70/100\n",
      "10/10 [==============================] - 1s 101ms/step - loss: 0.2913 - accuracy: 0.8833 - val_loss: 0.3517 - val_accuracy: 0.8467\n",
      "Epoch 71/100\n",
      "10/10 [==============================] - 1s 101ms/step - loss: 0.2884 - accuracy: 0.8850 - val_loss: 0.3495 - val_accuracy: 0.8467\n",
      "Epoch 72/100\n",
      "10/10 [==============================] - 1s 100ms/step - loss: 0.2854 - accuracy: 0.8850 - val_loss: 0.3470 - val_accuracy: 0.8467\n",
      "Epoch 73/100\n",
      "10/10 [==============================] - 1s 110ms/step - loss: 0.2825 - accuracy: 0.8850 - val_loss: 0.3448 - val_accuracy: 0.8467\n",
      "Epoch 74/100\n",
      "10/10 [==============================] - 1s 100ms/step - loss: 0.2796 - accuracy: 0.8867 - val_loss: 0.3424 - val_accuracy: 0.8467\n",
      "Epoch 75/100\n",
      "10/10 [==============================] - 1s 109ms/step - loss: 0.2765 - accuracy: 0.8867 - val_loss: 0.3393 - val_accuracy: 0.8600\n",
      "Epoch 76/100\n",
      "10/10 [==============================] - 1s 101ms/step - loss: 0.2737 - accuracy: 0.8883 - val_loss: 0.3380 - val_accuracy: 0.8600\n",
      "Epoch 77/100\n",
      "10/10 [==============================] - 1s 101ms/step - loss: 0.2711 - accuracy: 0.8917 - val_loss: 0.3360 - val_accuracy: 0.8600\n",
      "Epoch 78/100\n",
      "10/10 [==============================] - 1s 101ms/step - loss: 0.2681 - accuracy: 0.8933 - val_loss: 0.3327 - val_accuracy: 0.8600\n",
      "Epoch 79/100\n",
      "10/10 [==============================] - 1s 109ms/step - loss: 0.2653 - accuracy: 0.8933 - val_loss: 0.3306 - val_accuracy: 0.8600\n",
      "Epoch 80/100\n",
      "10/10 [==============================] - 1s 101ms/step - loss: 0.2628 - accuracy: 0.8950 - val_loss: 0.3290 - val_accuracy: 0.8533\n",
      "Epoch 81/100\n",
      "10/10 [==============================] - 1s 101ms/step - loss: 0.2604 - accuracy: 0.8950 - val_loss: 0.3270 - val_accuracy: 0.8533\n",
      "Epoch 82/100\n",
      "10/10 [==============================] - 1s 109ms/step - loss: 0.2575 - accuracy: 0.8967 - val_loss: 0.3237 - val_accuracy: 0.8600\n",
      "Epoch 83/100\n",
      "10/10 [==============================] - 1s 101ms/step - loss: 0.2551 - accuracy: 0.8983 - val_loss: 0.3224 - val_accuracy: 0.8533\n",
      "Epoch 84/100\n",
      "10/10 [==============================] - 1s 109ms/step - loss: 0.2528 - accuracy: 0.8967 - val_loss: 0.3205 - val_accuracy: 0.8533\n",
      "Epoch 85/100\n",
      "10/10 [==============================] - 1s 101ms/step - loss: 0.2503 - accuracy: 0.8983 - val_loss: 0.3185 - val_accuracy: 0.8600\n",
      "Epoch 86/100\n",
      "10/10 [==============================] - 1s 100ms/step - loss: 0.2481 - accuracy: 0.8983 - val_loss: 0.3167 - val_accuracy: 0.8533\n",
      "Epoch 87/100\n",
      "10/10 [==============================] - 1s 109ms/step - loss: 0.2455 - accuracy: 0.8983 - val_loss: 0.3144 - val_accuracy: 0.8533\n",
      "Epoch 88/100\n",
      "10/10 [==============================] - 1s 100ms/step - loss: 0.2431 - accuracy: 0.9033 - val_loss: 0.3124 - val_accuracy: 0.8533\n",
      "Epoch 89/100\n",
      "10/10 [==============================] - 1s 101ms/step - loss: 0.2406 - accuracy: 0.9067 - val_loss: 0.3103 - val_accuracy: 0.8533\n",
      "Epoch 90/100\n",
      "10/10 [==============================] - 1s 109ms/step - loss: 0.2388 - accuracy: 0.9050 - val_loss: 0.3094 - val_accuracy: 0.8533\n",
      "Epoch 91/100\n",
      "10/10 [==============================] - 1s 101ms/step - loss: 0.2363 - accuracy: 0.9067 - val_loss: 0.3069 - val_accuracy: 0.8533\n",
      "Epoch 92/100\n",
      "10/10 [==============================] - 1s 100ms/step - loss: 0.2341 - accuracy: 0.9083 - val_loss: 0.3046 - val_accuracy: 0.8533\n",
      "Epoch 93/100\n",
      "10/10 [==============================] - 1s 110ms/step - loss: 0.2322 - accuracy: 0.9100 - val_loss: 0.3033 - val_accuracy: 0.8533\n",
      "Epoch 94/100\n",
      "10/10 [==============================] - 1s 101ms/step - loss: 0.2300 - accuracy: 0.9133 - val_loss: 0.3011 - val_accuracy: 0.8533\n",
      "Epoch 95/100\n",
      "10/10 [==============================] - 1s 101ms/step - loss: 0.2279 - accuracy: 0.9150 - val_loss: 0.2992 - val_accuracy: 0.8667\n",
      "Epoch 96/100\n",
      "10/10 [==============================] - 1s 109ms/step - loss: 0.2260 - accuracy: 0.9167 - val_loss: 0.2978 - val_accuracy: 0.8667\n",
      "Epoch 97/100\n",
      "10/10 [==============================] - 1s 110ms/step - loss: 0.2237 - accuracy: 0.9183 - val_loss: 0.2954 - val_accuracy: 0.8667\n",
      "Epoch 98/100\n",
      "10/10 [==============================] - 1s 110ms/step - loss: 0.2220 - accuracy: 0.9183 - val_loss: 0.2938 - val_accuracy: 0.8733\n",
      "Epoch 99/100\n",
      "10/10 [==============================] - 1s 110ms/step - loss: 0.2199 - accuracy: 0.9200 - val_loss: 0.2911 - val_accuracy: 0.8733\n",
      "Epoch 100/100\n",
      "10/10 [==============================] - 1s 110ms/step - loss: 0.2185 - accuracy: 0.9217 - val_loss: 0.2910 - val_accuracy: 0.8733\n"
     ]
    }
   ],
   "source": [
    "train_dataset = tf.data.Dataset.from_tensor_slices((X_train, Y_train)).batch(64)\n",
    "test_dataset = tf.data.Dataset.from_tensor_slices((X_test, Y_test)).batch(64)\n",
    "history = conv_model.fit(train_dataset, epochs=100, validation_data=test_dataset)"
   ]
  },
  {
   "cell_type": "markdown",
   "metadata": {},
   "source": [
    "<a name='5'></a>\n",
    "## 5 - History Object \n",
    "\n",
    "The history object is an output of the `.fit()` operation, and provides a record of all the loss and metric values in memory. It's stored as a dictionary that you can retrieve at `history.history`: "
   ]
  },
  {
   "cell_type": "code",
   "execution_count": 16,
   "metadata": {},
   "outputs": [
    {
     "data": {
      "text/plain": [
       "{'loss': [1.759110927581787,\n",
       "  1.3700549602508545,\n",
       "  1.055393934249878,\n",
       "  0.8154345154762268,\n",
       "  0.7260460257530212,\n",
       "  0.7069332003593445,\n",
       "  0.6987555623054504,\n",
       "  0.6938582062721252,\n",
       "  0.6880822777748108,\n",
       "  0.68402498960495,\n",
       "  0.679019033908844,\n",
       "  0.6750094294548035,\n",
       "  0.670515239238739,\n",
       "  0.6663528680801392,\n",
       "  0.6617400646209717,\n",
       "  0.6567410826683044,\n",
       "  0.6511065363883972,\n",
       "  0.6452955603599548,\n",
       "  0.6388463973999023,\n",
       "  0.6323229074478149,\n",
       "  0.6251951456069946,\n",
       "  0.6176339983940125,\n",
       "  0.6102159023284912,\n",
       "  0.6024656891822815,\n",
       "  0.5944458246231079,\n",
       "  0.585846483707428,\n",
       "  0.5771269202232361,\n",
       "  0.5681984424591064,\n",
       "  0.5587385296821594,\n",
       "  0.5488149523735046,\n",
       "  0.5385542511940002,\n",
       "  0.5275071263313293,\n",
       "  0.5177187323570251,\n",
       "  0.5071835517883301,\n",
       "  0.4967156946659088,\n",
       "  0.4862678050994873,\n",
       "  0.47696584463119507,\n",
       "  0.46754491329193115,\n",
       "  0.4580288231372833,\n",
       "  0.4489707052707672,\n",
       "  0.4401382505893707,\n",
       "  0.43202757835388184,\n",
       "  0.42408162355422974,\n",
       "  0.4163352847099304,\n",
       "  0.40913277864456177,\n",
       "  0.40217259526252747,\n",
       "  0.3949693441390991,\n",
       "  0.3879949748516083,\n",
       "  0.38165849447250366,\n",
       "  0.375638872385025,\n",
       "  0.3697481155395508,\n",
       "  0.3639291524887085,\n",
       "  0.3587765395641327,\n",
       "  0.35364848375320435,\n",
       "  0.34850287437438965,\n",
       "  0.3437998592853546,\n",
       "  0.33903616666793823,\n",
       "  0.33468812704086304,\n",
       "  0.330630362033844,\n",
       "  0.3264774978160858,\n",
       "  0.3226710259914398,\n",
       "  0.3190956711769104,\n",
       "  0.31537359952926636,\n",
       "  0.3116953670978546,\n",
       "  0.30788958072662354,\n",
       "  0.3043884336948395,\n",
       "  0.30105531215667725,\n",
       "  0.2980613112449646,\n",
       "  0.2945098280906677,\n",
       "  0.2913491427898407,\n",
       "  0.2884461581707001,\n",
       "  0.2853730618953705,\n",
       "  0.28248175978660583,\n",
       "  0.27960920333862305,\n",
       "  0.27654770016670227,\n",
       "  0.27370166778564453,\n",
       "  0.27113357186317444,\n",
       "  0.26811885833740234,\n",
       "  0.2653183043003082,\n",
       "  0.26283523440361023,\n",
       "  0.2603779435157776,\n",
       "  0.25746986269950867,\n",
       "  0.25514066219329834,\n",
       "  0.2528441846370697,\n",
       "  0.250297486782074,\n",
       "  0.24806515872478485,\n",
       "  0.245537668466568,\n",
       "  0.243055522441864,\n",
       "  0.24063491821289062,\n",
       "  0.23875272274017334,\n",
       "  0.2363283485174179,\n",
       "  0.2340639978647232,\n",
       "  0.232157900929451,\n",
       "  0.23003855347633362,\n",
       "  0.227852001786232,\n",
       "  0.22600562870502472,\n",
       "  0.22372080385684967,\n",
       "  0.22200332581996918,\n",
       "  0.21987739205360413,\n",
       "  0.2185336798429489],\n",
       " 'accuracy': [0.20499999821186066,\n",
       "  0.5,\n",
       "  0.5,\n",
       "  0.4833333194255829,\n",
       "  0.47999998927116394,\n",
       "  0.46166667342185974,\n",
       "  0.528333306312561,\n",
       "  0.5299999713897705,\n",
       "  0.5899999737739563,\n",
       "  0.5833333134651184,\n",
       "  0.6116666793823242,\n",
       "  0.6333333253860474,\n",
       "  0.6399999856948853,\n",
       "  0.6583333611488342,\n",
       "  0.6816666722297668,\n",
       "  0.7066666483879089,\n",
       "  0.7183333039283752,\n",
       "  0.7366666793823242,\n",
       "  0.7416666746139526,\n",
       "  0.746666669845581,\n",
       "  0.746666669845581,\n",
       "  0.7483333349227905,\n",
       "  0.7483333349227905,\n",
       "  0.753333330154419,\n",
       "  0.7583333253860474,\n",
       "  0.7649999856948853,\n",
       "  0.7649999856948853,\n",
       "  0.7766666412353516,\n",
       "  0.7833333611488342,\n",
       "  0.7866666913032532,\n",
       "  0.7933333516120911,\n",
       "  0.8016666769981384,\n",
       "  0.8066666722297668,\n",
       "  0.8066666722297668,\n",
       "  0.8133333325386047,\n",
       "  0.8199999928474426,\n",
       "  0.8316666483879089,\n",
       "  0.8316666483879089,\n",
       "  0.8333333134651184,\n",
       "  0.8366666436195374,\n",
       "  0.8416666388511658,\n",
       "  0.8450000286102295,\n",
       "  0.846666693687439,\n",
       "  0.8500000238418579,\n",
       "  0.8516666889190674,\n",
       "  0.8533333539962769,\n",
       "  0.8533333539962769,\n",
       "  0.8550000190734863,\n",
       "  0.8566666841506958,\n",
       "  0.8583333492279053,\n",
       "  0.8566666841506958,\n",
       "  0.8616666793823242,\n",
       "  0.8650000095367432,\n",
       "  0.8616666793823242,\n",
       "  0.8666666746139526,\n",
       "  0.8700000047683716,\n",
       "  0.8733333349227905,\n",
       "  0.8733333349227905,\n",
       "  0.8733333349227905,\n",
       "  0.8733333349227905,\n",
       "  0.875,\n",
       "  0.8799999952316284,\n",
       "  0.878333330154419,\n",
       "  0.8833333253860474,\n",
       "  0.8833333253860474,\n",
       "  0.8833333253860474,\n",
       "  0.8816666603088379,\n",
       "  0.8816666603088379,\n",
       "  0.8833333253860474,\n",
       "  0.8833333253860474,\n",
       "  0.8849999904632568,\n",
       "  0.8849999904632568,\n",
       "  0.8849999904632568,\n",
       "  0.8866666555404663,\n",
       "  0.8866666555404663,\n",
       "  0.8883333206176758,\n",
       "  0.8916666507720947,\n",
       "  0.8933333158493042,\n",
       "  0.8933333158493042,\n",
       "  0.8949999809265137,\n",
       "  0.8949999809265137,\n",
       "  0.8966666460037231,\n",
       "  0.8983333110809326,\n",
       "  0.8966666460037231,\n",
       "  0.8983333110809326,\n",
       "  0.8983333110809326,\n",
       "  0.8983333110809326,\n",
       "  0.903333306312561,\n",
       "  0.9066666960716248,\n",
       "  0.9049999713897705,\n",
       "  0.9066666960716248,\n",
       "  0.9083333611488342,\n",
       "  0.9100000262260437,\n",
       "  0.9133333563804626,\n",
       "  0.9150000214576721,\n",
       "  0.9166666865348816,\n",
       "  0.9183333516120911,\n",
       "  0.9183333516120911,\n",
       "  0.9200000166893005,\n",
       "  0.92166668176651],\n",
       " 'val_loss': [1.555818796157837,\n",
       "  1.2323098182678223,\n",
       "  0.9149281978607178,\n",
       "  0.7294516563415527,\n",
       "  0.7049062252044678,\n",
       "  0.6879405975341797,\n",
       "  0.686516284942627,\n",
       "  0.6777229905128479,\n",
       "  0.6760511994361877,\n",
       "  0.6705058217048645,\n",
       "  0.668211042881012,\n",
       "  0.6648268699645996,\n",
       "  0.6623595356941223,\n",
       "  0.6590441465377808,\n",
       "  0.6557128429412842,\n",
       "  0.6520133018493652,\n",
       "  0.6479091048240662,\n",
       "  0.643397867679596,\n",
       "  0.6394467949867249,\n",
       "  0.6346690058708191,\n",
       "  0.6295943260192871,\n",
       "  0.624988853931427,\n",
       "  0.618945300579071,\n",
       "  0.6126909852027893,\n",
       "  0.6059301495552063,\n",
       "  0.5992336869239807,\n",
       "  0.5929974317550659,\n",
       "  0.5856578350067139,\n",
       "  0.5782061815261841,\n",
       "  0.5694984197616577,\n",
       "  0.5606997609138489,\n",
       "  0.5521152019500732,\n",
       "  0.5442596077919006,\n",
       "  0.5353124737739563,\n",
       "  0.526329755783081,\n",
       "  0.5197210907936096,\n",
       "  0.5130590200424194,\n",
       "  0.5048998594284058,\n",
       "  0.49708759784698486,\n",
       "  0.48952892422676086,\n",
       "  0.48279234766960144,\n",
       "  0.47682392597198486,\n",
       "  0.46951884031295776,\n",
       "  0.4637294113636017,\n",
       "  0.4581862986087799,\n",
       "  0.45130783319473267,\n",
       "  0.4440821409225464,\n",
       "  0.43736058473587036,\n",
       "  0.43174663186073303,\n",
       "  0.4262157380580902,\n",
       "  0.4201582968235016,\n",
       "  0.4145071506500244,\n",
       "  0.41037747263908386,\n",
       "  0.4058327376842499,\n",
       "  0.4012271761894226,\n",
       "  0.3966379463672638,\n",
       "  0.39281946420669556,\n",
       "  0.3896026313304901,\n",
       "  0.3856586217880249,\n",
       "  0.3818550407886505,\n",
       "  0.378439724445343,\n",
       "  0.3765580356121063,\n",
       "  0.37312188744544983,\n",
       "  0.36957481503486633,\n",
       "  0.36587533354759216,\n",
       "  0.36285585165023804,\n",
       "  0.3597409427165985,\n",
       "  0.35776805877685547,\n",
       "  0.35451531410217285,\n",
       "  0.3517244756221771,\n",
       "  0.3494659662246704,\n",
       "  0.34704071283340454,\n",
       "  0.3448390066623688,\n",
       "  0.3423663377761841,\n",
       "  0.3393487334251404,\n",
       "  0.33801141381263733,\n",
       "  0.33601054549217224,\n",
       "  0.33273422718048096,\n",
       "  0.33061277866363525,\n",
       "  0.3289628326892853,\n",
       "  0.327021986246109,\n",
       "  0.32369089126586914,\n",
       "  0.32235294580459595,\n",
       "  0.3204549551010132,\n",
       "  0.3184601068496704,\n",
       "  0.31671497225761414,\n",
       "  0.31436678767204285,\n",
       "  0.31244876980781555,\n",
       "  0.31033894419670105,\n",
       "  0.309404194355011,\n",
       "  0.30688050389289856,\n",
       "  0.30461978912353516,\n",
       "  0.30334827303886414,\n",
       "  0.3010559380054474,\n",
       "  0.29919254779815674,\n",
       "  0.2978481650352478,\n",
       "  0.2953636050224304,\n",
       "  0.293752521276474,\n",
       "  0.2911025285720825,\n",
       "  0.29095083475112915],\n",
       " 'val_accuracy': [0.4333333373069763,\n",
       "  0.4399999976158142,\n",
       "  0.46000000834465027,\n",
       "  0.5333333611488342,\n",
       "  0.4333333373069763,\n",
       "  0.6066666841506958,\n",
       "  0.46666666865348816,\n",
       "  0.6200000047683716,\n",
       "  0.5333333611488342,\n",
       "  0.6133333444595337,\n",
       "  0.5933333039283752,\n",
       "  0.6133333444595337,\n",
       "  0.6333333253860474,\n",
       "  0.6466666460037231,\n",
       "  0.6866666674613953,\n",
       "  0.6933333277702332,\n",
       "  0.7200000286102295,\n",
       "  0.7266666889190674,\n",
       "  0.7266666889190674,\n",
       "  0.7266666889190674,\n",
       "  0.7333333492279053,\n",
       "  0.7333333492279053,\n",
       "  0.7333333492279053,\n",
       "  0.7266666889190674,\n",
       "  0.7266666889190674,\n",
       "  0.7266666889190674,\n",
       "  0.7266666889190674,\n",
       "  0.7333333492279053,\n",
       "  0.7400000095367432,\n",
       "  0.746666669845581,\n",
       "  0.746666669845581,\n",
       "  0.7599999904632568,\n",
       "  0.753333330154419,\n",
       "  0.753333330154419,\n",
       "  0.7599999904632568,\n",
       "  0.753333330154419,\n",
       "  0.746666669845581,\n",
       "  0.746666669845581,\n",
       "  0.753333330154419,\n",
       "  0.753333330154419,\n",
       "  0.753333330154419,\n",
       "  0.753333330154419,\n",
       "  0.7666666507720947,\n",
       "  0.7666666507720947,\n",
       "  0.7666666507720947,\n",
       "  0.7666666507720947,\n",
       "  0.7799999713897705,\n",
       "  0.7866666913032532,\n",
       "  0.7866666913032532,\n",
       "  0.800000011920929,\n",
       "  0.8066666722297668,\n",
       "  0.8133333325386047,\n",
       "  0.8133333325386047,\n",
       "  0.8199999928474426,\n",
       "  0.8199999928474426,\n",
       "  0.8266666531562805,\n",
       "  0.8333333134651184,\n",
       "  0.8266666531562805,\n",
       "  0.8266666531562805,\n",
       "  0.8266666531562805,\n",
       "  0.8266666531562805,\n",
       "  0.8266666531562805,\n",
       "  0.8333333134651184,\n",
       "  0.8333333134651184,\n",
       "  0.8399999737739563,\n",
       "  0.846666693687439,\n",
       "  0.846666693687439,\n",
       "  0.846666693687439,\n",
       "  0.846666693687439,\n",
       "  0.846666693687439,\n",
       "  0.846666693687439,\n",
       "  0.846666693687439,\n",
       "  0.846666693687439,\n",
       "  0.846666693687439,\n",
       "  0.8600000143051147,\n",
       "  0.8600000143051147,\n",
       "  0.8600000143051147,\n",
       "  0.8600000143051147,\n",
       "  0.8600000143051147,\n",
       "  0.8533333539962769,\n",
       "  0.8533333539962769,\n",
       "  0.8600000143051147,\n",
       "  0.8533333539962769,\n",
       "  0.8533333539962769,\n",
       "  0.8600000143051147,\n",
       "  0.8533333539962769,\n",
       "  0.8533333539962769,\n",
       "  0.8533333539962769,\n",
       "  0.8533333539962769,\n",
       "  0.8533333539962769,\n",
       "  0.8533333539962769,\n",
       "  0.8533333539962769,\n",
       "  0.8533333539962769,\n",
       "  0.8533333539962769,\n",
       "  0.8666666746139526,\n",
       "  0.8666666746139526,\n",
       "  0.8666666746139526,\n",
       "  0.8733333349227905,\n",
       "  0.8733333349227905,\n",
       "  0.8733333349227905]}"
      ]
     },
     "execution_count": 16,
     "metadata": {},
     "output_type": "execute_result"
    }
   ],
   "source": [
    "history.history"
   ]
  },
  {
   "cell_type": "markdown",
   "metadata": {},
   "source": [
    "Now visualize the loss over time using `history.history`: "
   ]
  },
  {
   "cell_type": "code",
   "execution_count": 17,
   "metadata": {},
   "outputs": [
    {
     "data": {
      "text/plain": [
       "[Text(0, 0.5, 'Accuracy'), Text(0.5, 0, 'Epoch')]"
      ]
     },
     "execution_count": 17,
     "metadata": {},
     "output_type": "execute_result"
    },
    {
     "data": {
      "image/png": "[encoded data removed]",
      "text/plain": [
       "<Figure size 864x576 with 1 Axes>"
      ]
     },
     "metadata": {
      "needs_background": "light"
     },
     "output_type": "display_data"
    },
    {
     "data": {
      "image/png": "[encoded data removed]",
      "text/plain": [
       "<Figure size 864x576 with 1 Axes>"
      ]
     },
     "metadata": {
      "needs_background": "light"
     },
     "output_type": "display_data"
    }
   ],
   "source": [
    "# The history.history[\"loss\"] entry is a dictionary with as many values as epochs that the\n",
    "# model was trained on. \n",
    "df_loss_acc = pd.DataFrame(history.history)\n",
    "df_loss= df_loss_acc[['loss','val_loss']]\n",
    "df_loss.rename(columns={'loss':'train','val_loss':'validation'},inplace=True)\n",
    "df_acc= df_loss_acc[['accuracy','val_accuracy']]\n",
    "df_acc.rename(columns={'accuracy':'train','val_accuracy':'validation'},inplace=True)\n",
    "df_loss.plot(title='Model loss',figsize=(12,8)).set(xlabel='Epoch',ylabel='Loss')\n",
    "df_acc.plot(title='Model Accuracy',figsize=(12,8)).set(xlabel='Epoch',ylabel='Accuracy')"
   ]
  },
  {
   "cell_type": "markdown",
   "metadata": {},
   "source": [
    "**Congratulations**! You've finished the assignment and built two models: One that recognizes  smiles, and another that recognizes SIGN language with almost 80% accuracy on the test set. In addition to that, you now also understand the applications of two Keras APIs: Sequential and Functional. Nicely done! \n",
    "\n",
    "By now, you know a bit about how the Functional API works and may have glimpsed the possibilities. In your next assignment, you'll really get a feel for its power when you get the opportunity to build a very deep ConvNet, using ResNets! "
   ]
  },
  {
   "cell_type": "markdown",
   "metadata": {},
   "source": [
    "<a name='6'></a>\n",
    "## 6 - Bibliography\n",
    "\n",
    "You're always encouraged to read the official documentation. To that end, you can find the docs for the Sequential and Functional APIs here: \n",
    "\n",
    "https://www.tensorflow.org/guide/keras/sequential_model\n",
    "\n",
    "https://www.tensorflow.org/guide/keras/functional"
   ]
  }
 ],
 "metadata": {
  "coursera": {
   "course_slug": "convolutional-neural-networks",
   "graded_item_id": "bwbJV",
   "launcher_item_id": "0TkXB"
  },
  "kernelspec": {
   "display_name": "Python 3",
   "language": "python",
   "name": "python3"
  },
  "language_info": {
   "codemirror_mode": {
    "name": "ipython",
    "version": 3
   },
   "file_extension": ".py",
   "mimetype": "text/x-python",
   "name": "python",
   "nbconvert_exporter": "python",
   "pygments_lexer": "ipython3",
   "version": "3.7.6"
  }
 },
 "nbformat": 4,
 "nbformat_minor": 2
}
